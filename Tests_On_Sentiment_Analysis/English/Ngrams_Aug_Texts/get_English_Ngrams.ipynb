{
 "cells": [
  {
   "cell_type": "code",
   "execution_count": 1,
   "id": "c505ba0e",
   "metadata": {},
   "outputs": [
    {
     "data": {
      "text/plain": [
       "9613"
      ]
     },
     "execution_count": 1,
     "metadata": {},
     "output_type": "execute_result"
    }
   ],
   "source": [
    "from utils import load_dataset, gather_text \n",
    "\n",
    "fpathes = ['../data/train.tsv', '../data/dev.tsv', '../data/test.tsv']\n",
    "texts = []\n",
    "\n",
    "for ds in load_dataset(fpathes):\n",
    "    texts.extend(gather_text(ds))\n",
    "    \n",
    "len(texts)"
   ]
  },
  {
   "cell_type": "code",
   "execution_count": 2,
   "id": "e540f2cb",
   "metadata": {},
   "outputs": [],
   "source": [
    "from utils import saveJson, ngramGenerator\n",
    "from paddlenlp.transformers.bert.tokenizer import BasicTokenizer\n",
    "from collections import Counter\n",
    "from threading import Thread\n",
    "from tqdm import tqdm\n",
    "import json\n",
    "from time import time\n",
    "\n",
    "\n",
    "def add_ngram_data(text):\n",
    "    tks = tokenize(text)\n",
    "    if tks:\n",
    "        tks = ['<START>'] + tks + ['<END>']\n",
    "        bi_tks = ngramGenerator(tks, 2)\n",
    "        tri_tks = ngramGenerator(tks, 3)\n",
    "        four_tks = ngramGenerator(tks, 4)\n",
    "        \n",
    "        unigram.update(Counter(tks))\n",
    "        bigram.update(Counter(bi_tks))\n",
    "        trigram.update(Counter(tri_tks))\n",
    "        fourgram.update(Counter(four_tks))\n",
    "        \n",
    "        \n",
    "def build_ngram_dataset(step=100):\n",
    "    end_idx = len(texts)\n",
    "    for i in tqdm(range(0, end_idx, step)):\n",
    "        threads = []\n",
    "        for j in range(i, i + step if i + step <= end_idx else end_idx):\n",
    "            t = Thread(target=add_ngram_data, args=(texts[j], ))\n",
    "            t.start()\n",
    "            threads.append(t)\n",
    "        for t in threads:\n",
    "            t.join()\n",
    "\n",
    "\n",
    "def trimCounterDic(counterDic, min_freq=0, addUNK=False):\n",
    "    total = sum(counterDic.values())\n",
    "    counterDic = counterDic.most_common()\n",
    "    counterDic = [(c[0], c[1] / total) for c in counterDic if c[1] >= min_freq]\n",
    "    if addUNK:\n",
    "        counterDic.append(('<UNK>', 1 / total))\n",
    "    return dict(counterDic)\n",
    "\n",
    "\n",
    "def main():\n",
    "    global unigram, bigram, trigram, fourgram\n",
    "    \n",
    "    build_ngram_dataset()\n",
    "    # trim and normalize the frequency dicts\n",
    "    unigram = trimCounterDic(unigram, 2, True)\n",
    "    bigram = trimCounterDic(bigram, 5)\n",
    "    trigram = trimCounterDic(trigram, 5)\n",
    "    fourgram = trimCounterDic(fourgram, 5)\n",
    "    saveJson(unigram, '../data/Unigram.json')\n",
    "    saveJson(bigram, '../data/Bigram.json')\n",
    "    saveJson(trigram, '../data/Trigram.json')\n",
    "    saveJson(fourgram, '../data/Fourgram.json')"
   ]
  },
  {
   "cell_type": "code",
   "execution_count": 3,
   "id": "31d8dbab",
   "metadata": {},
   "outputs": [
    {
     "name": "stderr",
     "output_type": "stream",
     "text": [
      "100%|███████████████████████████████████████████| 97/97 [00:04<00:00, 23.14it/s]\n"
     ]
    },
    {
     "name": "stdout",
     "output_type": "stream",
     "text": [
      "../data/Unigram.json has been saved!\n",
      "../data/Bigram.json has been saved!\n",
      "../data/Trigram.json has been saved!\n",
      "../data/Fourgram.json has been saved!\n",
      "Total time: 4.405871868133545\n"
     ]
    }
   ],
   "source": [
    "if __name__ == '__main__':\n",
    "    s = time()\n",
    "    tokenize = BasicTokenizer().tokenize\n",
    "    unigram = Counter()\n",
    "    bigram = Counter()\n",
    "    trigram = Counter()\n",
    "    fourgram = Counter()\n",
    "    main()\n",
    "    e = time()\n",
    "    print(\"Total time: \" + str(e - s))"
   ]
  }
 ],
 "metadata": {
  "kernelspec": {
   "display_name": "Python 3 (ipykernel)",
   "language": "python",
   "name": "python3"
  },
  "language_info": {
   "codemirror_mode": {
    "name": "ipython",
    "version": 3
   },
   "file_extension": ".py",
   "mimetype": "text/x-python",
   "name": "python",
   "nbconvert_exporter": "python",
   "pygments_lexer": "ipython3",
   "version": "3.9.6"
  }
 },
 "nbformat": 4,
 "nbformat_minor": 5
}
