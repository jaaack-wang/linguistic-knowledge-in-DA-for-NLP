{
 "cells": [
  {
   "cell_type": "code",
   "execution_count": 7,
   "metadata": {
    "execution": {
     "iopub.execute_input": "2022-01-27T00:07:07.266218Z",
     "iopub.status.busy": "2022-01-27T00:07:07.265343Z",
     "iopub.status.idle": "2022-01-27T00:07:07.294167Z",
     "shell.execute_reply": "2022-01-27T00:07:07.293525Z",
     "shell.execute_reply.started": "2022-01-27T00:07:07.266183Z"
    },
    "scrolled": true
   },
   "outputs": [],
   "source": [
    "from utils import *\n",
    "import paddle\n",
    "import paddle.nn.functional as F\n",
    "import pandas as pd\n",
    "\n",
    "\n",
    "V = TextVectorizer()\n",
    "V.load_vocab_from_json()"
   ]
  },
  {
   "cell_type": "code",
   "execution_count": 8,
   "metadata": {
    "execution": {
     "iopub.execute_input": "2022-01-27T00:07:07.296100Z",
     "iopub.status.busy": "2022-01-27T00:07:07.295576Z",
     "iopub.status.idle": "2022-01-27T00:07:07.304778Z",
     "shell.execute_reply": "2022-01-27T00:07:07.304221Z",
     "shell.execute_reply.started": "2022-01-27T00:07:07.296072Z"
    },
    "scrolled": true
   },
   "outputs": [],
   "source": [
    "def get_model(model):\n",
    "    model = paddle.Model(model)\n",
    "    optimizer = paddle.optimizer.Adam(\n",
    "    parameters=model.parameters(), learning_rate=5e-4)\n",
    "    criterion = paddle.nn.CrossEntropyLoss()\n",
    "    metric = paddle.metric.Accuracy()\n",
    "    model.prepare(optimizer, criterion, metric)\n",
    "    return model\n",
    "\n",
    "\n",
    "def predict(model, data_loader):\n",
    "    labels, predictions = [], []\n",
    "    logits = model.predict(data_loader)\n",
    "    for batch in data_loader:\n",
    "        labels.extend(batch[-1].tolist())\n",
    "        \n",
    "    for batch in logits[0]:\n",
    "        batch = paddle.to_tensor(batch)\n",
    "        probs = F.softmax(batch, axis=1)\n",
    "        preds = paddle.argmax(probs, axis=1).numpy().tolist()\n",
    "        predictions.extend(preds)\n",
    "        \n",
    "    return predictions, labels\n",
    "\n",
    "\n",
    "def get_accu_pre_recall_f1(preds, labels): \n",
    "    \n",
    "    tp, fp, tn, fn, right = 0, 0, 0, 0, 0\n",
    "    \n",
    "    for (i, j) in zip(preds, labels):\n",
    "        if i == 1 and j == 1:\n",
    "            tp += 1\n",
    "            right += 1\n",
    "        elif i == 1 and j == 0:\n",
    "            fp += 1\n",
    "        elif i == 0 and j == 0:\n",
    "            tn += 1\n",
    "            right += 1\n",
    "        else:\n",
    "            fn += 1\n",
    "    \n",
    "    A = round(right/len(preds), 3)\n",
    "    try:\n",
    "        P = round(tp / (tp + fp), 3)\n",
    "    except:\n",
    "        return [A, 'Nan', 'Nan', 'Nan']\n",
    "    R = round(tp / (tp + fn), 3)\n",
    "    F1 = round(2 * P * R / (P + R), 3)\n",
    "    \n",
    "    return [A, P, R, F1]\n"
   ]
  },
  {
   "cell_type": "code",
   "execution_count": 9,
   "metadata": {
    "execution": {
     "iopub.execute_input": "2022-01-27T00:07:07.310502Z",
     "iopub.status.busy": "2022-01-27T00:07:07.309985Z",
     "iopub.status.idle": "2022-01-27T00:07:07.319177Z",
     "shell.execute_reply": "2022-01-27T00:07:07.318596Z",
     "shell.execute_reply.started": "2022-01-27T00:07:07.310476Z"
    },
    "scrolled": true
   },
   "outputs": [],
   "source": [
    "from paddle_models.BoW import BoW\n",
    "from paddle_models.CNN import CNN\n",
    "from paddle_models.LSTM import LSTM\n",
    "from paddle_models.GRU import GRU\n",
    "\n",
    "\n",
    "def do_train_and_evaluate(train_path, \n",
    "                          network, \n",
    "                          epochs=\"3\", \n",
    "                          dev_path='dev.tsv', \n",
    "                          test_path='test.tsv', \n",
    "                          batch_size=64,\n",
    "                          save=False, \n",
    "                          save_dir='ckpt',\n",
    "                          device=\"gpu\", \n",
    "                          log_freq=500):\n",
    "    \n",
    "    paddle.set_device(device)\n",
    "    \n",
    "    if network.lower() == \"bow\":\n",
    "        model = BoW(len(V.vocab_to_idx), 2)\n",
    "        include_seq_len = False\n",
    "    elif network.lower() == 'cnn':\n",
    "        model = CNN(len(V.vocab_to_idx), 2)\n",
    "        include_seq_len = False\n",
    "    elif network.lower() == 'lstm':\n",
    "        model = LSTM(len(V.vocab_to_idx), 2)\n",
    "        include_seq_len = True\n",
    "    elif network.lower() == 'gru':\n",
    "        model = GRU(len(V.vocab_to_idx), 2)\n",
    "        include_seq_len = True\n",
    "    else:\n",
    "        raise ValueError(f\"Only supports: bow, cnn, lstm, gru, not {network}\")\n",
    "\n",
    "    train_set, dev_set, test_set = load_dataset([train_path, dev_path, test_path])\n",
    "    trans_fn = get_trans_fn(V, include_seq_len)\n",
    "    batchify_fn = get_batchify_fn(include_seq_len)\n",
    "    train_loader = create_dataloader(train_set, trans_fn, batchify_fn)\n",
    "    dev_loader = create_dataloader(dev_set, trans_fn, batchify_fn)\n",
    "    test_loader = create_dataloader(test_set, trans_fn, batchify_fn, shuffle=False)\n",
    "    \n",
    "    \n",
    "    model = get_model(model)\n",
    "    if save:\n",
    "        model.fit(train_loader, dev_loader, epochs=epochs, batch_size=batch_size, \n",
    "                  verbose=2, log_freq=log_freq, save_dir=save_dir)\n",
    "    else:\n",
    "        model.fit(train_loader, dev_loader, epochs=epochs, batch_size=batch_size,\n",
    "                  verbose=2, log_freq=log_freq)\n",
    "        \n",
    "    preds, labels = predict(model, test_loader)\n",
    "    accu, prec, recall, f1 = get_accu_pre_recall_f1(preds, labels)\n",
    "    \n",
    "    return [accu, prec, recall, f1]"
   ]
  },
  {
   "cell_type": "code",
   "execution_count": 10,
   "metadata": {
    "execution": {
     "iopub.execute_input": "2022-01-27T00:07:07.320489Z",
     "iopub.status.busy": "2022-01-27T00:07:07.320316Z",
     "iopub.status.idle": "2022-01-27T00:10:52.178763Z",
     "shell.execute_reply": "2022-01-27T00:10:52.178106Z",
     "shell.execute_reply.started": "2022-01-27T00:07:07.320468Z"
    },
    "scrolled": true
   },
   "outputs": [
    {
     "name": "stdout",
     "output_type": "stream",
     "text": [
      "Size: full; Model: gru\n",
      "The loss value printed in the log is the current step, and the metric is the average value of previous steps.\n",
      "Epoch 1/3\n",
      "step 150/150 - loss: 0.3252 - acc: 0.7055 - 44ms/step\n",
      "Eval begin...\n",
      "step 19/19 - loss: 0.3810 - acc: 0.8525 - 37ms/step\n",
      "Eval samples: 1200\n",
      "Epoch 2/3\n",
      "step 150/150 - loss: 0.2743 - acc: 0.9218 - 45ms/step\n",
      "Eval begin...\n",
      "step 19/19 - loss: 0.3564 - acc: 0.8842 - 36ms/step\n",
      "Eval samples: 1200\n",
      "Epoch 3/3\n",
      "step 150/150 - loss: 0.0610 - acc: 0.9718 - 44ms/step\n",
      "Eval begin...\n",
      "step 19/19 - loss: 0.5016 - acc: 0.8925 - 36ms/step\n",
      "Eval samples: 1200\n",
      "Predict begin...\n",
      "step 19/19 [==============================] - ETA: 1s - 72ms/ste - ETA: 1s - 72ms/ste - ETA: 0s - 59ms/ste - ETA: 0s - 53ms/ste - ETA: 0s - 49ms/ste - ETA: 0s - 47ms/ste - ETA: 0s - 45ms/ste - ETA: 0s - 43ms/ste - ETA: 0s - 39ms/ste - 37ms/step          \n",
      "Predict samples: 1200\n"
     ]
    }
   ],
   "source": [
    "from IPython.display import clear_output\n",
    "\n",
    "out = []\n",
    "\n",
    "for size in ['0.5k', '1k', '3k', '6k', 'full']:\n",
    "    for net in ['bow', 'cnn', 'lstm', 'gru']:\n",
    "        print(f\"Size: {size}; Model: {net}\")\n",
    "        res = do_train_and_evaluate(f'./all_data/train_{size}.txt', net, 3, device='gpu')\n",
    "        out.append(['base', 'None', net, size] + res)\n",
    "        clear_output(wait=True)\n",
    "\n",
    "        columns = ['TrainType', 'EditType', 'ClfModel', 'TrainSize', 'Accuracy', 'Precision', 'Recall', 'F1']\n",
    "        df = pd.DataFrame(out, columns=columns)\n",
    "        df.to_excel('base_model_stats.xlsx', index=False)"
   ]
  },
  {
   "cell_type": "code",
   "execution_count": 12,
   "metadata": {
    "execution": {
     "iopub.execute_input": "2022-01-27T00:33:45.079556Z",
     "iopub.status.busy": "2022-01-27T00:33:45.078642Z",
     "iopub.status.idle": "2022-01-27T00:53:27.082644Z",
     "shell.execute_reply": "2022-01-27T00:53:27.081987Z",
     "shell.execute_reply.started": "2022-01-27T00:33:45.079516Z"
    },
    "scrolled": true
   },
   "outputs": [
    {
     "name": "stdout",
     "output_type": "stream",
     "text": [
      "aug_type:reda_ngram. Size: full; Model: gru\n",
      "The loss value printed in the log is the current step, and the metric is the average value of previous steps.\n",
      "Epoch 1/3\n",
      "step 500/899 - loss: 0.0324 - acc: 0.8716 - 45ms/step\n",
      "step 899/899 - loss: 0.0112 - acc: 0.9170 - 44ms/step\n",
      "Eval begin...\n",
      "step 19/19 - loss: 0.3225 - acc: 0.8867 - 37ms/step\n",
      "Eval samples: 1200\n",
      "Epoch 2/3\n",
      "step 500/899 - loss: 0.0119 - acc: 0.9881 - 46ms/step\n",
      "step 899/899 - loss: 0.1134 - acc: 0.9889 - 45ms/step\n",
      "Eval begin...\n",
      "step 19/19 - loss: 0.2845 - acc: 0.8800 - 36ms/step\n",
      "Eval samples: 1200\n",
      "Epoch 3/3\n",
      "step 500/899 - loss: 0.0390 - acc: 0.9922 - 45ms/step\n",
      "step 899/899 - loss: 0.0629 - acc: 0.9918 - 45ms/step\n",
      "Eval begin...\n",
      "step 19/19 - loss: 0.7802 - acc: 0.8658 - 37ms/step\n",
      "Eval samples: 1200\n",
      "Predict begin...\n",
      "step 19/19 [==============================] - ETA: 1s - 72ms/ste - ETA: 1s - 71ms/ste - ETA: 0s - 59ms/ste - ETA: 0s - 53ms/ste - ETA: 0s - 49ms/ste - ETA: 0s - 47ms/ste - ETA: 0s - 45ms/ste - ETA: 0s - 42ms/ste - ETA: 0s - 39ms/ste - 37ms/step          \n",
      "Predict samples: 1200\n"
     ]
    }
   ],
   "source": [
    "from IPython.display import clear_output\n",
    "\n",
    "out = []\n",
    "\n",
    "for aug_type in ['reda', 'reda_ngram']:\n",
    "    for size in ['0.5k', '1k', '3k', '6k', 'full']:\n",
    "        for net in ['bow', 'cnn', 'lstm', 'gru']:\n",
    "            print(f\"aug_type:{aug_type}. Size: {size}; Model: {net}\")\n",
    "            res = do_train_and_evaluate(f'./all_data/train_{size}_aug_{aug_type}.txt', net, 3, device=\"gpu\")\n",
    "            out.append([aug_type, 'All', net, size] + res)\n",
    "            clear_output(wait=True)\n",
    "\n",
    "            columns = ['TrainType', 'EditType', 'ClfModel', 'TrainSize', 'Accuracy', 'Precision', 'Recall', 'F1']\n",
    "            df = pd.DataFrame(out, columns=columns)\n",
    "            df.to_excel('aug_model_stats.xlsx', index=False)"
   ]
  }
 ],
 "metadata": {
  "kernelspec": {
   "display_name": "Python 3 (ipykernel)",
   "language": "python",
   "name": "python3"
  },
  "language_info": {
   "codemirror_mode": {
    "name": "ipython",
    "version": 3
   },
   "file_extension": ".py",
   "mimetype": "text/x-python",
   "name": "python",
   "nbconvert_exporter": "python",
   "pygments_lexer": "ipython3",
   "version": "3.9.6"
  }
 },
 "nbformat": 4,
 "nbformat_minor": 4
}
