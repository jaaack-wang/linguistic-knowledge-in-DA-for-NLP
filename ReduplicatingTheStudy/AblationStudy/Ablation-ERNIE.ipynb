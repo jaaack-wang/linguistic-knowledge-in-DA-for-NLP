{
 "cells": [
  {
   "cell_type": "code",
   "execution_count": 1,
   "id": "003472e2-1497-4658-958d-d533b1e665bf",
   "metadata": {
    "execution": {
     "iopub.execute_input": "2021-12-12T16:09:30.419365Z",
     "iopub.status.busy": "2021-12-12T16:09:30.418869Z",
     "iopub.status.idle": "2021-12-12T16:09:30.422395Z",
     "shell.execute_reply": "2021-12-12T16:09:30.421747Z",
     "shell.execute_reply.started": "2021-12-12T16:09:30.419336Z"
    }
   },
   "outputs": [],
   "source": [
    "from os.path import exists"
   ]
  },
  {
   "cell_type": "code",
   "execution_count": 2,
   "id": "54ec87b4-6629-4d9d-8dd3-f26ab823a86f",
   "metadata": {
    "execution": {
     "iopub.execute_input": "2021-12-12T16:09:33.192169Z",
     "iopub.status.busy": "2021-12-12T16:09:33.191525Z",
     "iopub.status.idle": "2021-12-12T16:09:37.244162Z",
     "shell.execute_reply": "2021-12-12T16:09:37.243565Z",
     "shell.execute_reply.started": "2021-12-12T16:09:33.192139Z"
    }
   },
   "outputs": [],
   "source": [
    "def run(data_size, suffix=\"\", ep=3):\n",
    "    if exists('./checkpoints'):\n",
    "        !rm -r ./checkpoints\n",
    "    \n",
    "    train_set_suffix = f\"_{data_size}{suffix}\"\n",
    "    train_set_path = './DATA/train' + train_set_suffix + '.txt' \n",
    "\n",
    "    !python -u -m paddle.distributed.launch --gpus \"0\" train_pointwise.py \\\n",
    "            --train_set_path {train_set_path} \\\n",
    "            --dev_set_path './dev.txt' \\\n",
    "            --epochs {ep} \\\n",
    "            --save_dir ./checkpoints\\\n",
    "            --batch_size 64 \\\n",
    "            --learning_rate 2E-5 \\\n",
    "    \n",
    "    model = !ls ./checkpoints/\n",
    "    model.sort()\n",
    "    model_path = f\"./checkpoints/{model[-1]}/model_state.pdparams\"\n",
    "\n",
    "    !python -u -m paddle.distributed.launch --gpus \"0\" \\\n",
    "            predict_pointwise.py \\\n",
    "            --out_dir './ablation_tests_pred/' \\\n",
    "            --train_set_suffix {train_set_suffix} \\\n",
    "            --device gpu \\\n",
    "            --params_path {model_path}\\\n",
    "            --batch_size 64 \\\n",
    "            --max_seq_length 128 \\\n",
    "            --input_file 'test.txt'\n",
    "    "
   ]
  },
  {
   "cell_type": "code",
   "execution_count": 1,
   "id": "4d6b715c-7281-4128-8c0f-9f3b2872b54a",
   "metadata": {
    "execution": {
     "iopub.execute_input": "2021-12-16T06:05:35.728867Z",
     "iopub.status.busy": "2021-12-16T06:05:35.728385Z",
     "iopub.status.idle": "2021-12-16T06:05:35.733087Z",
     "shell.execute_reply": "2021-12-16T06:05:35.732218Z",
     "shell.execute_reply.started": "2021-12-16T06:05:35.728828Z"
    }
   },
   "outputs": [],
   "source": [
    "from IPython.display import clear_output\n",
    "\n",
    "data_size = ['5k', '10k', '25k', '50k', '75k', '100k', '125k', '150k', '175k', '200k', 'full']\n",
    "suffix = ['', '_sr_reda', '_rs_reda', '_ri_reda', '_rd_reda', '_rm_reda', \n",
    "'_sr_reda_ngram', '_rs_reda_ngram', '_ri_reda_ngram', '_rd_reda_ngram', '_rm_reda_ngram']\n",
    "\n",
    "for sfx in suffix:\n",
    "    for size in data_size:\n",
    "        if size in ['5k', '10k', '25k']:\n",
    "            ep = 3\n",
    "        elif size in ['50k', '75k', '100k']:\n",
    "            ep = 2\n",
    "        else:\n",
    "            ep = 1\n",
    "\n",
    "        run(size, sfx, ep)\n",
    "        clear_output(wait=True)"
   ]
  },
  {
   "cell_type": "code",
   "execution_count": null,
   "id": "260f4c28-bd48-4474-becc-d7eebd8b5397",
   "metadata": {},
   "outputs": [],
   "source": []
  }
 ],
 "metadata": {
  "kernelspec": {
   "display_name": "Python 3",
   "language": "python",
   "name": "py35-paddle1.2.0"
  },
  "language_info": {
   "codemirror_mode": {
    "name": "ipython",
    "version": 3
   },
   "file_extension": ".py",
   "mimetype": "text/x-python",
   "name": "python",
   "nbconvert_exporter": "python",
   "pygments_lexer": "ipython3",
   "version": "3.7.4"
  }
 },
 "nbformat": 4,
 "nbformat_minor": 5
}
