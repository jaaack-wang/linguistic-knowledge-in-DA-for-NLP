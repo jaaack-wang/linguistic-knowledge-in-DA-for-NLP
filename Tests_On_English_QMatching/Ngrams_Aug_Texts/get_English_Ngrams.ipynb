{
 "cells": [
  {
   "cell_type": "code",
   "execution_count": 1,
   "id": "437b3d89",
   "metadata": {},
   "outputs": [
    {
     "name": "stdout",
     "output_type": "stream",
     "text": [
      "--2022-01-23 20:18:14--  http://qim.fs.quoracdn.net/quora_duplicate_questions.tsv\n",
      "Resolving qim.fs.quoracdn.net (qim.fs.quoracdn.net)... 151.101.53.2\n",
      "Connecting to qim.fs.quoracdn.net (qim.fs.quoracdn.net)|151.101.53.2|:80... connected.\n",
      "HTTP request sent, awaiting response... 200 OK\n",
      "Length: 58176133 (55M) [text/tab-separated-values]\n",
      "Saving to: ‘quora_duplicate_questions.tsv’\n",
      "\n",
      "quora_duplicate_que 100%[===================>]  55.48M  3.05MB/s    in 24s     \n",
      "\n",
      "2022-01-23 20:18:41 (2.35 MB/s) - ‘quora_duplicate_questions.tsv’ saved [58176133/58176133]\n",
      "\n"
     ]
    }
   ],
   "source": [
    "!wget http://qim.fs.quoracdn.net/quora_duplicate_questions.tsv"
   ]
  },
  {
   "cell_type": "code",
   "execution_count": 1,
   "id": "c505ba0e",
   "metadata": {},
   "outputs": [
    {
     "data": {
      "text/plain": [
       "808586"
      ]
     },
     "execution_count": 1,
     "metadata": {},
     "output_type": "execute_result"
    }
   ],
   "source": [
    "data = open('quora_duplicate_questions.tsv', 'r').readlines()\n",
    "texts = []\n",
    "\n",
    "for line in data[1:]:\n",
    "    line = line.split('\\t')\n",
    "    try:\n",
    "        text_a, text_b = line[-3], line[-2]\n",
    "        if len(text_a):\n",
    "            texts.append(text_a)\n",
    "        if len(text_b):\n",
    "            texts.append(text_b)\n",
    "    except:\n",
    "        pass\n",
    "    \n",
    "    \n",
    "len(texts)"
   ]
  },
  {
   "cell_type": "code",
   "execution_count": 2,
   "id": "e540f2cb",
   "metadata": {},
   "outputs": [],
   "source": [
    "from paddlenlp.transformers.bert.tokenizer import BasicTokenizer\n",
    "from collections import Counter\n",
    "from threading import Thread\n",
    "from tqdm import tqdm\n",
    "import json\n",
    "from time import time\n",
    "\n",
    "\n",
    "def saveJson(dic, path):\n",
    "    with open(path, 'w') as f:\n",
    "        json.dump(dic, f)\n",
    "    print(path + \" has been saved!\")\n",
    "    \n",
    "\n",
    "def ngramGenerator(tokens, n):    \n",
    "    start = 0\n",
    "    end = len(tokens) - n + 1\n",
    "    res = []\n",
    "    for i in range(start, end):\n",
    "        res.append(' '.join(tokens[i:i+n]))\n",
    "    return res\n",
    "\n",
    "\n",
    "def add_ngram_data(text):\n",
    "    tks = tokenize(text)\n",
    "    if tks:\n",
    "        tks = ['<START>'] + tks + ['<END>']\n",
    "        bi_tks = ngramGenerator(tks, 2)\n",
    "        tri_tks = ngramGenerator(tks, 3)\n",
    "        four_tks = ngramGenerator(tks, 4)\n",
    "        \n",
    "        unigram.update(Counter(tks))\n",
    "        bigram.update(Counter(bi_tks))\n",
    "        trigram.update(Counter(tri_tks))\n",
    "        fourgram.update(Counter(four_tks))\n",
    "        \n",
    "        \n",
    "def build_ngram_dataset(step=100):\n",
    "    end_idx = len(texts)\n",
    "    for i in tqdm(range(0, end_idx, step)):\n",
    "        threads = []\n",
    "        for j in range(i, i + step if i + step <= end_idx else end_idx):\n",
    "            t = Thread(target=add_ngram_data, args=(texts[j], ))\n",
    "            t.start()\n",
    "            threads.append(t)\n",
    "        for t in threads:\n",
    "            t.join()\n",
    "\n",
    "\n",
    "def trimCounterDic(counterDic, min_freq=0, addUNK=False):\n",
    "    total = sum(counterDic.values())\n",
    "    counterDic = counterDic.most_common()\n",
    "    counterDic = [(c[0], c[1] / total) for c in counterDic if c[1] >= min_freq]\n",
    "    if addUNK:\n",
    "        counterDic.append(('<UNK>', 1 / total))\n",
    "    return dict(counterDic)\n",
    "\n",
    "\n",
    "def main():\n",
    "    global unigram, bigram, trigram, fourgram\n",
    "    \n",
    "    build_ngram_dataset()\n",
    "    # trim and normalize the frequency dicts\n",
    "    unigram = trimCounterDic(unigram, 2, True)\n",
    "    bigram = trimCounterDic(bigram, 5)\n",
    "    trigram = trimCounterDic(trigram, 5)\n",
    "    fourgram = trimCounterDic(fourgram, 5)\n",
    "    saveJson(unigram, '../data/QuoraUnigram.json')\n",
    "    saveJson(bigram, '../data/QuorBigram.json')\n",
    "    saveJson(trigram, '../data/QuorTrigram.json')\n",
    "    saveJson(fourgram, '../data/QuorFourgram.json')"
   ]
  },
  {
   "cell_type": "code",
   "execution_count": 3,
   "id": "31d8dbab",
   "metadata": {},
   "outputs": [
    {
     "name": "stderr",
     "output_type": "stream",
     "text": [
      "100%|███████████████████████████████████████| 8086/8086 [04:06<00:00, 32.74it/s]\n"
     ]
    },
    {
     "name": "stdout",
     "output_type": "stream",
     "text": [
      "../data/QuoraUnigram.json has been saved!\n",
      "../data/QuorBigram.json has been saved!\n",
      "../data/QuorTrigram.json has been saved!\n",
      "../data/QuorFourgram.json has been saved!\n",
      "Total time: 252.4117670059204\n"
     ]
    }
   ],
   "source": [
    "if __name__ == '__main__':\n",
    "    s = time()\n",
    "    tokenize = BasicTokenizer().tokenize\n",
    "    unigram = Counter()\n",
    "    bigram = Counter()\n",
    "    trigram = Counter()\n",
    "    fourgram = Counter()\n",
    "    main()\n",
    "    e = time()\n",
    "    print(\"Total time: \" + str(e - s))"
   ]
  }
 ],
 "metadata": {
  "kernelspec": {
   "display_name": "Python 3 (ipykernel)",
   "language": "python",
   "name": "python3"
  },
  "language_info": {
   "codemirror_mode": {
    "name": "ipython",
    "version": 3
   },
   "file_extension": ".py",
   "mimetype": "text/x-python",
   "name": "python",
   "nbconvert_exporter": "python",
   "pygments_lexer": "ipython3",
   "version": "3.9.6"
  }
 },
 "nbformat": 4,
 "nbformat_minor": 5
}
