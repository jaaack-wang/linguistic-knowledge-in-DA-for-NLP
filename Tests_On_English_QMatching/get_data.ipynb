{
 "cells": [
  {
   "cell_type": "code",
   "execution_count": 1,
   "id": "7d57ef8a",
   "metadata": {},
   "outputs": [
    {
     "name": "stdout",
     "output_type": "stream",
     "text": [
      "--2022-01-23 16:23:44--  http://qim.fs.quoracdn.net/quora_duplicate_questions.tsv\n",
      "Resolving qim.fs.quoracdn.net (qim.fs.quoracdn.net)... 151.101.53.2\n",
      "Connecting to qim.fs.quoracdn.net (qim.fs.quoracdn.net)|151.101.53.2|:80... connected.\n",
      "HTTP request sent, awaiting response... 200 OK\n",
      "Length: 58176133 (55M) [text/tab-separated-values]\n",
      "Saving to: ‘quora_duplicate_questions.tsv’\n",
      "\n",
      "quora_duplicate_que 100%[===================>]  55.48M  3.17MB/s    in 19s     \n",
      "\n",
      "2022-01-23 16:24:03 (2.94 MB/s) - ‘quora_duplicate_questions.tsv’ saved [58176133/58176133]\n",
      "\n"
     ]
    }
   ],
   "source": [
    "!wget http://qim.fs.quoracdn.net/quora_duplicate_questions.tsv"
   ]
  },
  {
   "cell_type": "code",
   "execution_count": 2,
   "id": "ae651fbb",
   "metadata": {},
   "outputs": [],
   "source": [
    "from random import seed, sample, shuffle\n",
    "from utils import load_dataset, gather_text, TextVectorizer\n",
    "\n",
    "\n",
    "def get_quora_data():\n",
    "    data = open('quora_duplicate_questions.tsv', 'r').readlines()\n",
    "    corpus = []\n",
    "\n",
    "    # we do not want the header to be included \n",
    "    for line in data[1:]:\n",
    "        line = line.split('\\t')\n",
    "        try:\n",
    "            # If this cannot be done, there is a problem and we do not want to save this example\n",
    "            text_a, text_b, label = line[-3], line[-2], line[-1].strip()\n",
    "            int(label) # just a test, to make sure that the label is convertible to int\n",
    "            if len(text_a) != 0 and len(text_b) != 0: # make sure that the text is not empty\n",
    "                corpus.append([text_a, text_b, label])\n",
    "        except:\n",
    "            pass\n",
    "    \n",
    "    matched = [c for c in corpus if c[-1] == \"1\"]\n",
    "    unmatched = [c for c in corpus if c[-1] == \"0\"]\n",
    "\n",
    "    seed(32)\n",
    "    part1 = matched\n",
    "    part2 = sample(unmatched, 149263)\n",
    "\n",
    "    train = part1[:130000] + part2[:130000]\n",
    "    dev = part1[130000:140000] + part2[130000:140000]\n",
    "    test = part1[140000:] + part2[140000:]\n",
    "\n",
    "    shuffle(train)\n",
    "    shuffle(dev)\n",
    "    shuffle(test)\n",
    "\n",
    "    def save(dataset, fpath):\n",
    "        dataset = ['\\t'.join(d) for d in dataset]\n",
    "        with open(fpath, 'w') as f:\n",
    "            f.write('\\n'.join(dataset))\n",
    "            f.close()\n",
    "            print(f\"{fpath} has been saved!\")\n",
    "\n",
    "    save(train, \"train.txt\")\n",
    "    save(dev, \"dev.txt\")\n",
    "    save(test, \"test.txt\")\n",
    "    \n",
    "\n",
    "def build_dict():\n",
    "    train_set = load_dataset('train.txt')\n",
    "    text = gather_text(train_set)\n",
    "    V = TextVectorizer()\n",
    "    V.build_vocab(text)\n",
    "    V.save_vocab_as_json()"
   ]
  },
  {
   "cell_type": "code",
   "execution_count": 3,
   "id": "abd1785c",
   "metadata": {},
   "outputs": [
    {
     "name": "stdout",
     "output_type": "stream",
     "text": [
      "train.txt has been saved!\n",
      "dev.txt has been saved!\n",
      "test.txt has been saved!\n",
      "Two vocabulary dictionaries have been built!\n",
      "Please call \u001b[1mX.vocab_to_idx | X.idx_to_vocab\u001b[0m to find out more where [X] stands for the name you used for this TextVectorizer class.\n",
      "vocab_to_idx.json has been successfully saved!\n"
     ]
    }
   ],
   "source": [
    "get_quora_data()\n",
    "build_dict()"
   ]
  }
 ],
 "metadata": {
  "kernelspec": {
   "display_name": "Python 3 (ipykernel)",
   "language": "python",
   "name": "python3"
  },
  "language_info": {
   "codemirror_mode": {
    "name": "ipython",
    "version": 3
   },
   "file_extension": ".py",
   "mimetype": "text/x-python",
   "name": "python",
   "nbconvert_exporter": "python",
   "pygments_lexer": "ipython3",
   "version": "3.9.6"
  }
 },
 "nbformat": 4,
 "nbformat_minor": 5
}
